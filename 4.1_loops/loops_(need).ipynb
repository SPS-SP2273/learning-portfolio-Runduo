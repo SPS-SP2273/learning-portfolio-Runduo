{
 "cells": [
  {
   "attachments": {},
   "cell_type": "markdown",
   "id": "123456",
   "metadata": {},
   "source": [
    "<div style=\"text-align:left;font-size:2em\"><span style=\"font-weight:bolder;font-size:1.25em\">SP2273 | Learning Portfolio</span><br><br><span style=\"font-weight:bold;color:darkred\">Loops (Need)</span></div>"
   ]
  },
  {
   "attachments": {},
   "cell_type": "markdown",
   "id": "123456",
   "metadata": {},
   "source": [
    "# What to expect in this chapter"
   ]
  },
  {
   "attachments": {},
   "cell_type": "markdown",
   "id": "123456",
   "metadata": {},
   "source": [
    "# 1 The for iterator"
   ]
  },
  {
   "cell_type": "code",
   "execution_count": 1,
   "id": "c541d9e8",
   "metadata": {},
   "outputs": [],
   "source": [
    "real_names = [\"Natasha Romanoff\", \"Tony Stark\", \"Stephen Strange\"] #list"
   ]
  },
  {
   "attachments": {},
   "cell_type": "markdown",
   "id": "123456",
   "metadata": {},
   "source": [
    "## 1.1 for with a list"
   ]
  },
  {
   "cell_type": "code",
   "execution_count": null,
   "id": "d7c0953d",
   "metadata": {},
   "outputs": [
    {
     "name": "stdout",
     "output_type": "stream",
     "text": [
      "Natasha Romanoff is a Marvel Superhero\n",
      "Tony Stark is a Marvel Superhero\n"
     ]
    }
   ],
   "source": [
    "name=real_names[0] #Repeated f-string (bad)\n",
    "print(f'{name} is a Marvel Superhero')\n",
    "name=real_names[1]\n",
    "print(f'{name} is a Marvel Superhero')"
   ]
  },
  {
   "cell_type": "code",
   "execution_count": 11,
   "id": "b180cd96",
   "metadata": {},
   "outputs": [
    {
     "name": "stdout",
     "output_type": "stream",
     "text": [
      "Natasha Romanoff is a Marvel Superhero\n",
      "Tony Stark is a Marvel Superhero\n",
      "Stephen Strange is a Marvel Superhero\n"
     ]
    }
   ],
   "source": [
    "for name in real_names: #Easy\n",
    " print(f'{name} is a Marvel Superhero')"
   ]
  },
  {
   "cell_type": "code",
   "execution_count": 10,
   "id": "0da34bd1",
   "metadata": {},
   "outputs": [
    {
     "name": "stdout",
     "output_type": "stream",
     "text": [
      "Natasha Romanoff is a Marvel Superhero\n",
      "Tony Stark is a Marvel Superhero\n",
      "Stephen Strange is a Marvel Superhero\n"
     ]
    }
   ],
   "source": [
    "for name in real_names:\n",
    " print(f'{name} is a Marvel Superhero')"
   ]
  },
  {
   "attachments": {},
   "cell_type": "markdown",
   "id": "123456",
   "metadata": {},
   "source": [
    "## 1.2 for with enumerate"
   ]
  },
  {
   "cell_type": "code",
   "execution_count": 12,
   "id": "da7a2d8f",
   "metadata": {},
   "outputs": [],
   "source": [
    "super_names = [\"Black Widow\", \"Iron Man\", \"Doctor Strange\"]\n",
    "real_names = [\"Natasha Romanoff\", \"Tony Stark\", \"Stephen Strange\"]"
   ]
  },
  {
   "cell_type": "code",
   "execution_count": null,
   "id": "94bd22bf",
   "metadata": {},
   "outputs": [
    {
     "name": "stdout",
     "output_type": "stream",
     "text": [
      "0: Natasha Romanoff is a Marvel Superhero\n",
      "1: Tony Stark is a Marvel Superhero\n",
      "2: Stephen Strange is a Marvel Superhero\n"
     ]
    }
   ],
   "source": [
    "for count, name in enumerate(real_names):#Numbering\n",
    "    print(f'{count}: {name} is a Marvel Superhero')"
   ]
  },
  {
   "cell_type": "code",
   "execution_count": null,
   "id": "f3993e68",
   "metadata": {},
   "outputs": [
    {
     "name": "stdout",
     "output_type": "stream",
     "text": [
      "Natasha Romanoff is Black Widow\n",
      "Tony Stark is Iron Man\n",
      "Stephen Strange is Doctor Strange\n"
     ]
    }
   ],
   "source": [
    "for index, name in enumerate(real_names): #name refers to real name\n",
    "    superhero_name = super_names[index]\n",
    "    print(f'{name} is {superhero_name}')"
   ]
  },
  {
   "cell_type": "code",
   "execution_count": 15,
   "id": "828b244d",
   "metadata": {},
   "outputs": [
    {
     "name": "stdout",
     "output_type": "stream",
     "text": [
      "67: Natasha Romanoff is a Marvel Superhero\n",
      "68: Tony Stark is a Marvel Superhero\n",
      "69: Stephen Strange is a Marvel Superhero\n"
     ]
    }
   ],
   "source": [
    "for count, name in enumerate(real_names, 67):\n",
    "    print(f'{count}: {name} is a Marvel Superhero')"
   ]
  },
  {
   "attachments": {},
   "cell_type": "markdown",
   "id": "123456",
   "metadata": {},
   "source": [
    "## 1.3 for with range"
   ]
  },
  {
   "cell_type": "code",
   "execution_count": null,
   "id": "51d5dce2",
   "metadata": {},
   "outputs": [
    {
     "name": "stdout",
     "output_type": "stream",
     "text": [
      "0\n",
      "1\n",
      "2\n",
      "3\n",
      "4\n",
      "5\n"
     ]
    }
   ],
   "source": [
    "for i in range(6): #i=0,1,2,3,4,5\n",
    "    print(i) #for range(n) print til n-1 similar to "
   ]
  },
  {
   "cell_type": "code",
   "execution_count": 20,
   "id": "4d1df0c1",
   "metadata": {},
   "outputs": [
    {
     "name": "stdout",
     "output_type": "stream",
     "text": [
      "67\n",
      "68\n"
     ]
    }
   ],
   "source": [
    "for i in range(67,69):\n",
    " print(i)"
   ]
  },
  {
   "cell_type": "code",
   "execution_count": 22,
   "id": "94c70750",
   "metadata": {},
   "outputs": [
    {
     "name": "stdout",
     "output_type": "stream",
     "text": [
      "2\n",
      "6\n",
      "10\n",
      "14\n",
      "18\n"
     ]
    }
   ],
   "source": [
    "for i in range(2,20,4):\n",
    "    print(i)"
   ]
  },
  {
   "cell_type": "code",
   "execution_count": null,
   "id": "b8dfc468",
   "metadata": {},
   "outputs": [
    {
     "ename": "TypeError",
     "evalue": "'float' object cannot be interpreted as an integer",
     "output_type": "error",
     "traceback": [
      "\u001b[31m---------------------------------------------------------------------------\u001b[39m",
      "\u001b[31mTypeError\u001b[39m                                 Traceback (most recent call last)",
      "\u001b[36mCell\u001b[39m\u001b[36m \u001b[39m\u001b[32mIn[23]\u001b[39m\u001b[32m, line 1\u001b[39m\n\u001b[32m----> \u001b[39m\u001b[32m1\u001b[39m \u001b[38;5;28;01mfor\u001b[39;00m i \u001b[38;5;129;01min\u001b[39;00m \u001b[38;5;28mrange\u001b[39m(\u001b[32m1\u001b[39m,\u001b[32m5\u001b[39m,\u001b[32m1.5\u001b[39m):\n\u001b[32m      2\u001b[39m     \u001b[38;5;28mprint\u001b[39m(i)\n",
      "\u001b[31mTypeError\u001b[39m: 'float' object cannot be interpreted as an integer"
     ]
    }
   ],
   "source": [
    "for i in range(1,5,1.5): #step size must be integer\n",
    "    print(i)"
   ]
  },
  {
   "attachments": {},
   "cell_type": "markdown",
   "id": "123456",
   "metadata": {},
   "source": [
    "# 2 while"
   ]
  },
  {
   "cell_type": "code",
   "execution_count": null,
   "id": "6801e30f",
   "metadata": {},
   "outputs": [
    {
     "name": "stdout",
     "output_type": "stream",
     "text": [
      "0\n",
      "1\n",
      "2\n",
      "3\n",
      "4\n"
     ]
    }
   ],
   "source": [
    "number = 0\n",
    "\n",
    "while number < 5: #simlar to 'if'\n",
    "    print(number)\n",
    "    number = number + 1 #or number+=1"
   ]
  },
  {
   "cell_type": "code",
   "execution_count": 27,
   "id": "000f11fe",
   "metadata": {},
   "outputs": [
    {
     "name": "stdout",
     "output_type": "stream",
     "text": [
      "3\n",
      "2\n",
      "1\n",
      "0\n",
      "-1\n",
      "-2\n",
      "-3\n",
      "-4\n"
     ]
    }
   ],
   "source": [
    "number = 3\n",
    "\n",
    "while -5 < number < 5:\n",
    "    print(number)\n",
    "    number = number -1"
   ]
  }
 ],
 "metadata": {
  "kernelspec": {
   "display_name": "base",
   "language": "python",
   "name": "python3"
  },
  "language_info": {
   "codemirror_mode": {
    "name": "ipython",
    "version": 3
   },
   "file_extension": ".py",
   "mimetype": "text/x-python",
   "name": "python",
   "nbconvert_exporter": "python",
   "pygments_lexer": "ipython3",
   "version": "3.13.5"
  },
  "toc": {
   "base_numbering": 1,
   "nav_menu": {},
   "number_sections": true,
   "sideBar": true,
   "skip_h1_title": false,
   "title_cell": "Table of Contents",
   "title_sidebar": "Contents",
   "toc_cell": false,
   "toc_position": {},
   "toc_section_display": true,
   "toc_window_display": false
  }
 },
 "nbformat": 4,
 "nbformat_minor": 5
}

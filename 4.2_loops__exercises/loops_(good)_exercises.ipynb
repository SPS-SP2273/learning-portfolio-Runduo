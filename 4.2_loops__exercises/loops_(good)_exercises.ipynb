{
 "cells": [
  {
   "attachments": {},
   "cell_type": "markdown",
   "id": "123456",
   "metadata": {},
   "source": [
    "<div style=\"text-align:left;font-size:2em\"><span style=\"font-weight:bolder;font-size:1.25em\">SP2273 | Learning Portfolio</span><br><br><span style=\"font-weight:bold;color:darkred\">Loops (Good) Exercises</span></div>"
   ]
  },
  {
   "cell_type": "markdown",
   "id": "3ac4970c",
   "metadata": {},
   "source": [
    "## Exercise 1"
   ]
  },
  {
   "cell_type": "code",
   "execution_count": 14,
   "id": "6d81ebe9",
   "metadata": {},
   "outputs": [
    {
     "name": "stdout",
     "output_type": "stream",
     "text": [
      "1\n",
      "9\n",
      "25\n",
      "49\n",
      "81\n"
     ]
    }
   ],
   "source": [
    "for x in range (10):\n",
    "    if x % 2 == 0:\n",
    "        continue\n",
    "    print(f'{x**2}') \n",
    "   "
   ]
  },
  {
   "cell_type": "markdown",
   "id": "e0a454ca",
   "metadata": {},
   "source": [
    "## Exercise 2"
   ]
  },
  {
   "cell_type": "code",
   "execution_count": 8,
   "id": "8538e23b",
   "metadata": {},
   "outputs": [
    {
     "data": {
      "text/plain": [
       "[1, 9, 25, 49, 81]"
      ]
     },
     "execution_count": 8,
     "metadata": {},
     "output_type": "execute_result"
    }
   ],
   "source": [
    "[ x**2 for x in range (10) if x%2!=0]"
   ]
  },
  {
   "cell_type": "markdown",
   "id": "5aaab05e",
   "metadata": {},
   "source": [
    "## Exercise 3"
   ]
  },
  {
   "cell_type": "code",
   "execution_count": 15,
   "id": "0af3692d",
   "metadata": {},
   "outputs": [
    {
     "name": "stdout",
     "output_type": "stream",
     "text": [
      "355 ns ± 8.99 ns per loop (mean ± std. dev. of 7 runs, 1,000,000 loops each)\n"
     ]
    }
   ],
   "source": [
    "%%timeit\n",
    "for x in range (10):\n",
    "    if x % 2 != 0:\n",
    "        continue\n",
    "    #print(f'{x**2}')\n",
    "        \n",
    "    "
   ]
  },
  {
   "cell_type": "code",
   "execution_count": null,
   "id": "56eea03d",
   "metadata": {},
   "outputs": [
    {
     "name": "stdout",
     "output_type": "stream",
     "text": [
      "595 ns ± 102 ns per loop (mean ± std. dev. of 7 runs, 1,000,000 loops each)\n"
     ]
    }
   ],
   "source": [
    "%%timeit \n",
    "[x**2 for x in range (10) if x%2!=0]"
   ]
  },
  {
   "cell_type": "markdown",
   "id": "1d67b65d",
   "metadata": {},
   "source": [
    "The 1st solution of list comprehension is faster"
   ]
  },
  {
   "cell_type": "markdown",
   "id": "648dcad8",
   "metadata": {},
   "source": [
    "## Exercise 4"
   ]
  },
  {
   "cell_type": "code",
   "execution_count": null,
   "id": "a9851219",
   "metadata": {},
   "outputs": [
    {
     "name": "stdout",
     "output_type": "stream",
     "text": [
      "1 95.0\n",
      "2 90.25\n",
      "3 85.7375\n",
      "4 81.450625\n",
      "5 77.37809375\n",
      "6 73.50918906250001\n",
      "7 69.83372960937501\n",
      "8 66.34204312890625\n",
      "9 63.024940972460946\n",
      "10 59.8736939238379\n",
      "11 56.880009227646006\n",
      "12 54.036008766263706\n",
      "13 51.33420832795052\n",
      "14 48.767497911552994\n"
     ]
    }
   ],
   "source": [
    "for t in range (2):\n",
    " x = 100 # t1/2 = 13.5 using decay law\n",
    "while x > 50:\n",
    "    print (t,x*95/100)\n",
    "    x = x*95/100\n",
    "    t=t+1\n",
    "    if x ==50:\n",
    "        break"
   ]
  },
  {
   "cell_type": "markdown",
   "id": "796a48e9",
   "metadata": {},
   "source": [
    "Half life is 13 years"
   ]
  },
  {
   "cell_type": "markdown",
   "id": "ec1140a6",
   "metadata": {},
   "source": [
    "## Exercise 5"
   ]
  },
  {
   "cell_type": "code",
   "execution_count": 17,
   "id": "b85b9a08",
   "metadata": {},
   "outputs": [
    {
     "name": "stdout",
     "output_type": "stream",
     "text": [
      "2002 with a change of co2 change of 3.7299999999999613\n",
      "2004 with a change of co2 change of 4.240000000000009\n",
      "2006 with a change of co2 change of 4.3799999999999955\n",
      "2008 with a change of co2 change of 3.7000000000000455\n",
      "2010 with a change of co2 change of 4.2999999999999545\n",
      "2012 with a change of co2 change of 3.9500000000000455\n",
      "2014 with a change of co2 change of 4.7999999999999545\n",
      "2016 with a change of co2 change of 5.590000000000032\n",
      "2018 with a change of co2 change of 4.279999999999973\n",
      "2020 with a change of co2 change of 5.720000000000027\n"
     ]
    }
   ],
   "source": [
    "co2_data = [\n",
    "    (2000, 369.55), (2001, 371.14), (2002, 373.28), \n",
    "    (2003, 375.80), (2004, 377.52), (2005, 379.80), \n",
    "    (2006, 381.90), (2007, 383.79), (2008, 385.60), \n",
    "    (2009, 387.43), (2010, 389.90), (2011, 391.65), \n",
    "    (2012, 393.85), (2013, 396.52), (2014, 398.65),\n",
    "    (2015, 400.83), (2016, 404.24), (2017, 406.55), \n",
    "    (2018, 408.52), (2019, 411.44), (2020, 414.24)\n",
    "]\n",
    "import numpy as np\n",
    "np_array = np.array(co2_data)\n",
    "for (year, co2) in co2_data:\n",
    "    if year == 2000:\n",
    "        co2p = co2\n",
    "        continue\n",
    "    if co2 - co2p >= 3:\n",
    "        print (f'{year} with a change of co2 change of {co2-co2p}')\n",
    "        co2p=co2\n",
    "        \n",
    "        \n"
   ]
  }
 ],
 "metadata": {
  "kernelspec": {
   "display_name": "base",
   "language": "python",
   "name": "python3"
  },
  "language_info": {
   "codemirror_mode": {
    "name": "ipython",
    "version": 3
   },
   "file_extension": ".py",
   "mimetype": "text/x-python",
   "name": "python",
   "nbconvert_exporter": "python",
   "pygments_lexer": "ipython3",
   "version": "3.13.5"
  },
  "toc": {
   "base_numbering": 1,
   "nav_menu": {},
   "number_sections": true,
   "sideBar": true,
   "skip_h1_title": false,
   "title_cell": "Table of Contents",
   "title_sidebar": "Contents",
   "toc_cell": false,
   "toc_position": {},
   "toc_section_display": true,
   "toc_window_display": false
  }
 },
 "nbformat": 4,
 "nbformat_minor": 5
}

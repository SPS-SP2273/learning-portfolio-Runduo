{
 "cells": [
  {
   "attachments": {},
   "cell_type": "markdown",
   "id": "123456",
   "metadata": {},
   "source": [
    "<div style=\"text-align:left;font-size:2em\"><span style=\"font-weight:bolder;font-size:1.25em\">SP2273 | Learning Portfolio</span><br><br><span style=\"font-weight:bold;color:darkred\">Loops (Need) Exercises</span></div>"
   ]
  },
  {
   "cell_type": "markdown",
   "id": "d6ac9a19",
   "metadata": {},
   "source": [
    "## Exercise 1"
   ]
  },
  {
   "cell_type": "code",
   "execution_count": 52,
   "id": "e3650002",
   "metadata": {},
   "outputs": [],
   "source": [
    "temperatures_celsius = [\n",
    "    0, 5, 10, 15, 20, 25,\n",
    "    30, 35, 40, 45, 50\n",
    "]"
   ]
  },
  {
   "cell_type": "code",
   "execution_count": 67,
   "id": "4b1491af",
   "metadata": {},
   "outputs": [
    {
     "name": "stdout",
     "output_type": "stream",
     "text": [
      "Fahrenheit,\t celsius\n",
      "32.0,\t\t 0\n",
      "41.0,\t\t 5\n",
      "50.0,\t\t 10\n",
      "59.0,\t\t 15\n",
      "68.0,\t\t 20\n",
      "77.0,\t\t 25\n",
      "86.0,\t\t 30\n",
      "95.0,\t\t 35\n",
      "104.0,\t\t 40\n",
      "113.0,\t\t 45\n",
      "122.0,\t\t 50\n"
     ]
    }
   ],
   "source": [
    "print('Fahrenheit,\\t celsius')\n",
    "for x in [\n",
    "    0, 5, 10, 15, 20, 25,\n",
    "    30, 35, 40, 45, 50\n",
    "]:\n",
    "    print(f'{x*1.8 + 32},\\t\\t {x}')\n",
    "    "
   ]
  },
  {
   "cell_type": "code",
   "execution_count": 14,
   "id": "ccfbaa38",
   "metadata": {},
   "outputs": [],
   "source": [
    "import numpy as np\n"
   ]
  },
  {
   "cell_type": "code",
   "execution_count": 15,
   "id": "1d09e029",
   "metadata": {},
   "outputs": [],
   "source": [
    "temperatures_celsius = [\n",
    "    0, 5, 10, 15, 20, 25,\n",
    "    30, 35, 40, 45, 50\n",
    "]\n",
    "np_array = np.array(temperatures_celsius)"
   ]
  },
  {
   "cell_type": "code",
   "execution_count": 16,
   "id": "ec8d4ac9",
   "metadata": {},
   "outputs": [],
   "source": [
    "tempeartures_F = np_array*1.8 + 32"
   ]
  },
  {
   "cell_type": "code",
   "execution_count": null,
   "id": "08a5fb95",
   "metadata": {},
   "outputs": [
    {
     "name": "stdout",
     "output_type": "stream",
     "text": [
      "[0, 5, 10, 15, 20, 25, 30, 35, 40, 45, 50] [ 32.  41.  50.  59.  68.  77.  86.  95. 104. 113. 122.]\t"
     ]
    }
   ],
   "source": [
    "print(temperatures_celsius,tempeartures_F, end='\\t')"
   ]
  },
  {
   "cell_type": "markdown",
   "id": "3646458c",
   "metadata": {},
   "source": [
    "## Exercise 2"
   ]
  },
  {
   "cell_type": "code",
   "execution_count": 2,
   "id": "70aa1a43",
   "metadata": {},
   "outputs": [],
   "source": [
    "import numpy as np"
   ]
  },
  {
   "cell_type": "code",
   "execution_count": 19,
   "id": "2e4140d2",
   "metadata": {},
   "outputs": [
    {
     "name": "stdout",
     "output_type": "stream",
     "text": [
      "A1\tA2\tA3\t\n",
      "\n",
      "B1\tB2\tB3\t\n",
      "\n",
      "C1\tC2\tC3\t\n",
      "\n"
     ]
    }
   ],
   "source": [
    "for letter in ['A','B','C']:\n",
    "    for number in [1,2,3]:\n",
    "        print(f'{letter}{number}', end='\\t')\n",
    "    print('\\n')"
   ]
  },
  {
   "cell_type": "code",
   "execution_count": 49,
   "id": "b262e5f7",
   "metadata": {},
   "outputs": [
    {
     "name": "stdout",
     "output_type": "stream",
     "text": [
      "1:1\t2\t3\t4\t5\t\n",
      "\n",
      "2:2\t4\t6\t8\t10\t\n",
      "\n",
      "3:3\t6\t9\t12\t15\t\n",
      "\n",
      "4:4\t8\t12\t16\t20\t\n",
      "\n",
      "5:5\t10\t15\t20\t25\t\n",
      "\n"
     ]
    }
   ],
   "source": [
    "for number1 in [1,2,3,4,5]:\n",
    "    print(f\"{number1}:\", end='') #iterates first loop only, end='' disables default \\n\n",
    "    for number2 in [1,2,3,4,5]:\n",
    "        print(f'{number1*number2}', end='\\t') #iterates both loops\n",
    "    print('\\n')"
   ]
  },
  {
   "cell_type": "code",
   "execution_count": 51,
   "id": "aefceebf",
   "metadata": {},
   "outputs": [
    {
     "name": "stdout",
     "output_type": "stream",
     "text": [
      "1:1\t2\t\n",
      "\n",
      "2:2\t4\t\n",
      "\n"
     ]
    }
   ],
   "source": [
    "for number1 in [1,2]:\n",
    "    print(f'{number1}:', end='')\n",
    "    for number2 in [1,2]:\n",
    "        print(f'{number1*number2}', end='\\t')\n",
    "    print('\\n')"
   ]
  },
  {
   "cell_type": "markdown",
   "id": "b576610c",
   "metadata": {},
   "source": [
    "## Exercise 3"
   ]
  },
  {
   "cell_type": "code",
   "execution_count": 68,
   "id": "2e8e1669",
   "metadata": {},
   "outputs": [
    {
     "data": {
      "text/plain": [
       "array([0.10184472, 0.79134856, 0.18343907, 0.91355847, 0.7785339 ,\n",
       "       0.18022072, 0.19956678, 0.72808221, 0.7252516 , 0.07541476])"
      ]
     },
     "execution_count": 68,
     "metadata": {},
     "output_type": "execute_result"
    }
   ],
   "source": [
    "np.random.rand(10)"
   ]
  },
  {
   "cell_type": "code",
   "execution_count": 2,
   "id": "671c0ec9",
   "metadata": {},
   "outputs": [],
   "source": [
    "import numpy as np"
   ]
  },
  {
   "cell_type": "code",
   "execution_count": 3,
   "id": "f4c8285c",
   "metadata": {},
   "outputs": [
    {
     "name": "stdout",
     "output_type": "stream",
     "text": [
      "Experiment 1:\n",
      "Experiment 2:\n",
      "Experiment 3:\n",
      "Experiment 4:\n",
      "Experiment 5:\n",
      "Experiment 6:\n",
      "Experiment 7:\n",
      "Experiment 8:\n",
      "Experiment 9:\n",
      "Experiment 10:\n",
      "No. of heads=6\t"
     ]
    }
   ],
   "source": [
    "for number1 in [1,2,3,4,5,6,7,8,9,10]: \n",
    " print(f'Experiment {number1}:')\n",
    " for x in range(10):\n",
    "   for x in [np.random.rand(10)]:\n",
    "    np_array=np.array(x)\n",
    "my_mask=np_array>0.5\n",
    "print(f'No. of heads={sum(my_mask)}', end='\\t')\n",
    "  \n",
    "  \n",
    "  \n",
    "    "
   ]
  },
  {
   "cell_type": "code",
   "execution_count": 4,
   "id": "0dbe6a5a",
   "metadata": {},
   "outputs": [
    {
     "name": "stdout",
     "output_type": "stream",
     "text": [
      "Experiment 1: No. of heads = 3\n",
      "Experiment 2: No. of heads = 7\n",
      "Experiment 3: No. of heads = 4\n",
      "Experiment 4: No. of heads = 5\n",
      "Experiment 5: No. of heads = 5\n",
      "Experiment 6: No. of heads = 7\n",
      "Experiment 7: No. of heads = 4\n",
      "Experiment 8: No. of heads = 7\n",
      "Experiment 9: No. of heads = 5\n",
      "Experiment 10: No. of heads = 1\n"
     ]
    }
   ],
   "source": [
    "for n in [1,2,3,4,5,6,7,8,9,10]:\n",
    "    print(f'Experiment {n}:',end='')\n",
    "    x = np.random.rand(10)\n",
    "    np_array=np.array(x)\n",
    "    my_mask=np_array>0.5\n",
    "    print(f' No. of heads = {sum(my_mask)}')\n",
    "        "
   ]
  },
  {
   "cell_type": "code",
   "execution_count": 2,
   "id": "7ecbb3a2",
   "metadata": {},
   "outputs": [],
   "source": [
    "import numpy as np"
   ]
  }
 ],
 "metadata": {
  "kernelspec": {
   "display_name": "base",
   "language": "python",
   "name": "python3"
  },
  "language_info": {
   "codemirror_mode": {
    "name": "ipython",
    "version": 3
   },
   "file_extension": ".py",
   "mimetype": "text/x-python",
   "name": "python",
   "nbconvert_exporter": "python",
   "pygments_lexer": "ipython3",
   "version": "3.13.5"
  },
  "toc": {
   "base_numbering": 1,
   "nav_menu": {},
   "number_sections": true,
   "sideBar": true,
   "skip_h1_title": false,
   "title_cell": "Table of Contents",
   "title_sidebar": "Contents",
   "toc_cell": false,
   "toc_position": {},
   "toc_section_display": true,
   "toc_window_display": false
  }
 },
 "nbformat": 4,
 "nbformat_minor": 5
}

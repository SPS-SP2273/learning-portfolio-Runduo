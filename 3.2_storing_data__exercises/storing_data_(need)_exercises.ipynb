{
 "cells": [
  {
   "attachments": {},
   "cell_type": "markdown",
   "id": "123456",
   "metadata": {},
   "source": [
    "<div style=\"text-align:left;font-size:2em\"><span style=\"font-weight:bolder;font-size:1.25em\">SP2273 | Learning Portfolio</span><br><br><span style=\"font-weight:bold;color:darkred\">Storing Data (Need) Exercises</span></div>"
   ]
  },
  {
   "cell_type": "markdown",
   "id": "1d5774ca",
   "metadata": {},
   "source": [
    "## 1. Two similarities between lists and arrays.\n"
   ]
  },
  {
   "cell_type": "markdown",
   "id": "4cdc0582",
   "metadata": {},
   "source": [
    "-Both lists and arrays are functioons that are used to store a set of data or code."
   ]
  },
  {
   "cell_type": "markdown",
   "id": "3503b739",
   "metadata": {},
   "source": [
    "## 2. Two differences between lists and arrays."
   ]
  },
  {
   "cell_type": "markdown",
   "id": "da8250d2",
   "metadata": {},
   "source": [
    "-Mathematical operations with a list works with the entire list (eg if x = [1,2,3,4] then 2x = [1,2,3,4,1,2,3,4] such that the list is multiplied by 2 ) whereas mathematical operations with arrays works with the individual elements within the set/array of elements. (eg if x = [1,2,3,4]) then 2x = [2,4,6,8], where the individual elements are being multiplied by 2."
   ]
  },
  {
   "cell_type": "markdown",
   "id": "54cc4bd5",
   "metadata": {},
   "source": [
    "-For lists involving differnet types of data stored (eg floats and strings in a same set), arrays can only identify one type of set of data while lists can identify more than 1 type of data set"
   ]
  },
  {
   "cell_type": "markdown",
   "id": "51fd4bfd",
   "metadata": {},
   "source": [
    "## 3. Define a dictionary"
   ]
  },
  {
   "cell_type": "markdown",
   "id": "5c3f9783",
   "metadata": {},
   "source": [
    "A dictionary is a function, similar to that of lists and arrays where data is stored. However, each element in a dictionary has a specific definition. __the data within a dictionary is paired__"
   ]
  },
  {
   "cell_type": "markdown",
   "id": "44ab878b",
   "metadata": {},
   "source": [
    "## Exercise 2"
   ]
  },
  {
   "cell_type": "code",
   "execution_count": 1,
   "id": "0b089431",
   "metadata": {},
   "outputs": [],
   "source": [
    "import numpy as np"
   ]
  },
  {
   "cell_type": "code",
   "execution_count": 4,
   "id": "214737c5",
   "metadata": {},
   "outputs": [
    {
     "name": "stdout",
     "output_type": "stream",
     "text": [
      "a1\n",
      "c3\n",
      "e5\n",
      "g7\n",
      "i9\n"
     ]
    }
   ],
   "source": [
    "py_list = [\"a1\", \"b2\", \"c3\", \"d4\", \"e5\", \"f6\", \"g7\", \"h8\", \"i9\", \"j10\"]\n",
    "print(py_list[0])                  # Prints 'a1'\n",
    "print(py_list[2])               # Prints 'c3'\n",
    "print(py_list[4])                  # Prints 'e5'\n",
    "print(py_list[6])                    # Prints 'g7'\n",
    "print(py_list[8])   # Prints 'i9'"
   ]
  },
  {
   "cell_type": "markdown",
   "id": "b843054b",
   "metadata": {},
   "source": [
    "## Exercise 3"
   ]
  },
  {
   "cell_type": "code",
   "execution_count": 12,
   "id": "b8cf9fe6",
   "metadata": {},
   "outputs": [
    {
     "name": "stdout",
     "output_type": "stream",
     "text": [
      "['Nitrogen', 'Oxygen']\n"
     ]
    }
   ],
   "source": [
    "elements = ['Hydrogen',\n",
    "            'Helium', 'Lithium',\n",
    "            'Beryllium', 'Boron', 'Carbon',\n",
    "            'Nitrogen', 'Oxygen',\n",
    "            'Fluorine',\n",
    "            'Neon']\n",
    "print(elements[6:8:1])\n"
   ]
  },
  {
   "cell_type": "code",
   "execution_count": 13,
   "id": "319bf304",
   "metadata": {},
   "outputs": [
    {
     "name": "stdout",
     "output_type": "stream",
     "text": [
      "['Oxygen', 'Nitrogen']\n"
     ]
    }
   ],
   "source": [
    "elements = ['Hydrogen',\n",
    "            'Helium', 'Lithium',\n",
    "            'Beryllium', 'Boron', 'Carbon',\n",
    "            'Nitrogen', 'Oxygen',\n",
    "            'Fluorine',\n",
    "            'Neon']\n",
    "print(elements[7:5:-1])"
   ]
  },
  {
   "cell_type": "markdown",
   "id": "e4c5cba6",
   "metadata": {},
   "source": [
    "## Exercise 4"
   ]
  },
  {
   "cell_type": "code",
   "execution_count": 2,
   "id": "f3d9b09d",
   "metadata": {},
   "outputs": [],
   "source": [
    "import numpy as np"
   ]
  },
  {
   "cell_type": "code",
   "execution_count": 4,
   "id": "718f4865",
   "metadata": {},
   "outputs": [],
   "source": [
    "numbers=[45, 60, 1, 30, 96, 1, 96, 57, 16, 1,\n",
    "        99, 62, 86, 43, 42, 60, 59, 1, 1, 35,\n",
    "        83, 47, 34, 28, 68, 23, 22, 92, 1, 79,\n",
    "        1, 29, 94, 72, 46, 47, 1, 74, 32, 20,\n",
    "        8, 37, 35, 1, 89, 29, 86, 19, 43, 61]                  "
   ]
  },
  {
   "cell_type": "code",
   "execution_count": 9,
   "id": "96f1cd55",
   "metadata": {},
   "outputs": [
    {
     "data": {
      "text/plain": [
       "np.int64(9)"
      ]
     },
     "execution_count": 9,
     "metadata": {},
     "output_type": "execute_result"
    }
   ],
   "source": [
    "np_array=np.array(numbers)\n",
    "my_mask=np_array==1\n",
    "sum(my_mask)"
   ]
  },
  {
   "cell_type": "code",
   "execution_count": 1,
   "id": "a9619f52",
   "metadata": {},
   "outputs": [],
   "source": [
    "import numpy as np\n"
   ]
  }
 ],
 "metadata": {
  "kernelspec": {
   "display_name": "base",
   "language": "python",
   "name": "python3"
  },
  "language_info": {
   "codemirror_mode": {
    "name": "ipython",
    "version": 3
   },
   "file_extension": ".py",
   "mimetype": "text/x-python",
   "name": "python",
   "nbconvert_exporter": "python",
   "pygments_lexer": "ipython3",
   "version": "3.13.5"
  },
  "toc": {
   "base_numbering": 1,
   "nav_menu": {},
   "number_sections": true,
   "sideBar": true,
   "skip_h1_title": false,
   "title_cell": "Table of Contents",
   "title_sidebar": "Contents",
   "toc_cell": false,
   "toc_position": {},
   "toc_section_display": true,
   "toc_window_display": false
  }
 },
 "nbformat": 4,
 "nbformat_minor": 5
}

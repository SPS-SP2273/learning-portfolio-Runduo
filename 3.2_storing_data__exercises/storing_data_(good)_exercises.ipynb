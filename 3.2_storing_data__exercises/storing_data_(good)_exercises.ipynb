{
 "cells": [
  {
   "attachments": {},
   "cell_type": "markdown",
   "id": "123456",
   "metadata": {},
   "source": [
    "<div style=\"text-align:left;font-size:2em\"><span style=\"font-weight:bolder;font-size:1.25em\">SP2273 | Learning Portfolio</span><br><br><span style=\"font-weight:bold;color:darkred\">Storing Data (Good) Exercises</span></div>"
   ]
  },
  {
   "cell_type": "markdown",
   "id": "31899ab7",
   "metadata": {
    "vscode": {
     "languageId": "plaintext"
    }
   },
   "source": [
    "## Exercise 1\n"
   ]
  },
  {
   "cell_type": "markdown",
   "id": "6c9f479e",
   "metadata": {},
   "source": [
    "Subsetting: Selecting elements from a given list/array"
   ]
  },
  {
   "cell_type": "markdown",
   "id": "20d6e361",
   "metadata": {},
   "source": [
    "Indexing: Selecting *only ONE* element"
   ]
  },
  {
   "cell_type": "markdown",
   "id": "c0fc646c",
   "metadata": {},
   "source": [
    "Slicing: Selecting *multiple elements* "
   ]
  },
  {
   "cell_type": "markdown",
   "id": "0dac559b",
   "metadata": {},
   "source": [
    "Masking: A type of subsetting where selection of an array is done by a True/False basis"
   ]
  },
  {
   "cell_type": "markdown",
   "id": "a9ac4a10",
   "metadata": {},
   "source": [
    "## Exercise 2"
   ]
  },
  {
   "cell_type": "code",
   "execution_count": 3,
   "id": "8ca1839e",
   "metadata": {},
   "outputs": [],
   "source": [
    "import numpy as np"
   ]
  },
  {
   "cell_type": "code",
   "execution_count": 4,
   "id": "eab6e6dd",
   "metadata": {},
   "outputs": [],
   "source": [
    "np_array_2d = np.array([[1, \"A\"], [3, \"C\"], [2, \"B\"], [4, \"D\"],\n",
    "                        [5, \"E\"], [7, \"G\"], [6, \"F\"], [8, \"H\"],\n",
    "                        [10, \"J\"], [9, \"I\"]])"
   ]
  },
  {
   "cell_type": "code",
   "execution_count": 5,
   "id": "aa6357f7",
   "metadata": {},
   "outputs": [],
   "source": [
    "np_array_int = np_array_2d [:,0] # ':' means start to end"
   ]
  },
  {
   "cell_type": "code",
   "execution_count": 6,
   "id": "811686ea",
   "metadata": {},
   "outputs": [
    {
     "data": {
      "text/plain": [
       "array(['1', '3', '2', '4', '5', '7', '6', '8', '10', '9'], dtype='<U21')"
      ]
     },
     "execution_count": 6,
     "metadata": {},
     "output_type": "execute_result"
    }
   ],
   "source": [
    "np_array_int #gives string output of numbers"
   ]
  },
  {
   "cell_type": "code",
   "execution_count": 7,
   "id": "64bb8f27",
   "metadata": {},
   "outputs": [
    {
     "data": {
      "text/plain": [
       "array([ 1,  3,  2,  4,  5,  7,  6,  8, 10,  9])"
      ]
     },
     "execution_count": 7,
     "metadata": {},
     "output_type": "execute_result"
    }
   ],
   "source": [
    "np_array_int.astype(int) #converts type to integer (int)"
   ]
  },
  {
   "cell_type": "code",
   "execution_count": 8,
   "id": "e989dc84",
   "metadata": {},
   "outputs": [],
   "source": [
    "mask = (np_array_int.astype(int) % 2 != 0)"
   ]
  },
  {
   "cell_type": "code",
   "execution_count": 9,
   "id": "fc444cd5",
   "metadata": {},
   "outputs": [
    {
     "data": {
      "text/plain": [
       "array([ True,  True, False, False,  True,  True, False, False, False,\n",
       "        True])"
      ]
     },
     "execution_count": 9,
     "metadata": {},
     "output_type": "execute_result"
    }
   ],
   "source": [
    "mask"
   ]
  },
  {
   "cell_type": "code",
   "execution_count": 10,
   "id": "9e12b2fb",
   "metadata": {},
   "outputs": [],
   "source": [
    "np_array_str = np_array_2d[mask,1]"
   ]
  },
  {
   "cell_type": "code",
   "execution_count": 11,
   "id": "61f5135d",
   "metadata": {},
   "outputs": [
    {
     "data": {
      "text/plain": [
       "array(['A', 'C', 'E', 'G', 'I'], dtype='<U21')"
      ]
     },
     "execution_count": 11,
     "metadata": {},
     "output_type": "execute_result"
    }
   ],
   "source": [
    "np_array_str"
   ]
  },
  {
   "cell_type": "code",
   "execution_count": 12,
   "id": "21c08b9a",
   "metadata": {},
   "outputs": [],
   "source": [
    "x=[[66, 50, 57, -1, -1],\n",
    " [92, -1, 88, -1, -1],\n",
    " [75, -1, -1, 76, -1],\n",
    " [-1, 51, 87, -1, -1],\n",
    " [71, -1, 67, -1, 69]]"
   ]
  },
  {
   "cell_type": "code",
   "execution_count": 13,
   "id": "03a48ed0",
   "metadata": {},
   "outputs": [],
   "source": [
    "x_array=np.array(x)"
   ]
  },
  {
   "cell_type": "code",
   "execution_count": 14,
   "id": "d24cf857",
   "metadata": {},
   "outputs": [],
   "source": [
    "mask_51 = (x_array > 50)\n",
    "mask_49 = (x_array < 50)\n",
    "mask_50 = (x_array == 50)"
   ]
  },
  {
   "cell_type": "code",
   "execution_count": 15,
   "id": "3bf1c070",
   "metadata": {},
   "outputs": [],
   "source": [
    "x_array[mask_51]=1\n",
    "x_array[mask_49]=-1\n",
    "x_array[mask_50]=0"
   ]
  },
  {
   "cell_type": "code",
   "execution_count": 16,
   "id": "9da014c8",
   "metadata": {},
   "outputs": [
    {
     "data": {
      "text/plain": [
       "array([[ 1,  0,  1, -1, -1],\n",
       "       [ 1, -1,  1, -1, -1],\n",
       "       [ 1, -1, -1,  1, -1],\n",
       "       [-1,  1,  1, -1, -1],\n",
       "       [ 1, -1,  1, -1,  1]])"
      ]
     },
     "execution_count": 16,
     "metadata": {},
     "output_type": "execute_result"
    }
   ],
   "source": [
    "x_array #LETS GOOOO"
   ]
  }
 ],
 "metadata": {
  "kernelspec": {
   "display_name": "base",
   "language": "python",
   "name": "python3"
  },
  "language_info": {
   "codemirror_mode": {
    "name": "ipython",
    "version": 3
   },
   "file_extension": ".py",
   "mimetype": "text/x-python",
   "name": "python",
   "nbconvert_exporter": "python",
   "pygments_lexer": "ipython3",
   "version": "3.13.5"
  },
  "toc": {
   "base_numbering": 1,
   "nav_menu": {},
   "number_sections": true,
   "sideBar": true,
   "skip_h1_title": false,
   "title_cell": "Table of Contents",
   "title_sidebar": "Contents",
   "toc_cell": false,
   "toc_position": {},
   "toc_section_display": true,
   "toc_window_display": false
  }
 },
 "nbformat": 4,
 "nbformat_minor": 5
}

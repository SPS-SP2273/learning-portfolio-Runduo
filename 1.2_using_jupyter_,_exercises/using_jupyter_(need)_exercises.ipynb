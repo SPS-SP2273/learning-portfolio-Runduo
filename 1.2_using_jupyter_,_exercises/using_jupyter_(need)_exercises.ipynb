{
 "cells": [
  {
   "attachments": {},
   "cell_type": "markdown",
   "id": "123456",
   "metadata": {},
   "source": [
    "<div style=\"text-align:left;font-size:2em\"><span style=\"font-weight:bolder;font-size:1.25em\">SP2273 | Learning Portfolio</span><br><br><span style=\"font-weight:bold;color:darkred\">Fundamentals (Need) Exercises</span></div>"
   ]
  },
  {
   "cell_type": "markdown",
   "id": "e44404ce",
   "metadata": {},
   "source": [
    "# 1. Quadratic Equations"
   ]
  },
  {
   "cell_type": "markdown",
   "id": "181ba6b2",
   "metadata": {},
   "source": [
    "## Introduction"
   ]
  },
  {
   "cell_type": "markdown",
   "id": "92413579",
   "metadata": {},
   "source": [
    "![](https://upload.wikimedia.org/wikipedia/commons/thumb/f/f8/Polynomialdeg2.svg/300px-Polynomialdeg2.svg.png)"
   ]
  },
  {
   "cell_type": "markdown",
   "id": "6e460506",
   "metadata": {},
   "source": [
    "(Image from the [Wikipedia page on Quadratic Equations](https://upload.wikimedia.org/wikipedia/commons/thumb/f/f8/Polynomialdeg2.svg/300px-Polynomialdeg2.svg.png))"
   ]
  },
  {
   "cell_type": "markdown",
   "id": "aadce2c8",
   "metadata": {},
   "source": [
    "The general form of a quadratic equation is:"
   ]
  },
  {
   "cell_type": "markdown",
   "id": "8f4254c2",
   "metadata": {},
   "source": [
    "$$ax^{2} + bx + c = 0$$"
   ]
  },
  {
   "cell_type": "markdown",
   "id": "69c5742b",
   "metadata": {},
   "source": [
    "## Solutions"
   ]
  },
  {
   "cell_type": "markdown",
   "id": "8565773e",
   "metadata": {},
   "source": [
    "Provided $a \\ne 0$, we can use an elementary algebraic method called [completing the square](https://en.wikipedia.org/wiki/Completing_the_square) to show that a quadratic equation has the following solution:"
   ]
  },
  {
   "cell_type": "markdown",
   "id": "ee034616",
   "metadata": {},
   "source": [
    "$$\n",
    "x = \\dfrac{-b \\pm \\sqrt{b^2-4ac}}{2a}\n",
    "$$"
   ]
  },
  {
   "cell_type": "markdown",
   "id": "e2d47686",
   "metadata": {},
   "source": [
    "## Discriminant"
   ]
  },
  {
   "cell_type": "markdown",
   "id": "d4e69301",
   "metadata": {},
   "source": [
    "The quantity $\\Delta = b^{2}-4ac$ is the **discriminant** of the equation and decides the nature of its solutions. The table below shows the possibilities."
   ]
  },
  {
   "cell_type": "markdown",
   "id": "2eee2093",
   "metadata": {},
   "source": [
    "| **Discriminant** |  **Roots**  |\n",
    "| :--- | :--: |\n",
    "| $\\Delta=b^{2}-4ac=0$  |  A single solution of -b/(2a)  |\n",
    "| $\\Delta=b^{2}-4ac>0$   |  Two distinct solutions |\n",
    "| $\\Delta=b^{2}-4ac<0$   |  No real solutions;both are complex |"
   ]
  },
  {
   "cell_type": "markdown",
   "id": "080e41fa",
   "metadata": {},
   "source": [
    "## 2. In your own words, use a Markdown cell to answer the following question "
   ]
  },
  {
   "cell_type": "markdown",
   "id": "b44d2629",
   "metadata": {},
   "source": [
    "### 1. What is a git **repository**? ###"
   ]
  },
  {
   "cell_type": "markdown",
   "id": "f59c0507",
   "metadata": {},
   "source": [
    " A git repository is a virtual storage where all the files and codes of a project or task is being stored and accessed. "
   ]
  },
  {
   "cell_type": "markdown",
   "id": "81093d9b",
   "metadata": {},
   "source": [
    "### 2. Git keeps track of the structure in the files of our repository."
   ]
  },
  {
   "cell_type": "markdown",
   "id": "3adc1a3e",
   "metadata": {},
   "source": [
    "### 3. What is a commit?"
   ]
  },
  {
   "cell_type": "markdown",
   "id": "5e2f9432",
   "metadata": {},
   "source": [
    "A commit is an instantaneous save of a project's file at any given time."
   ]
  },
  {
   "cell_type": "markdown",
   "id": "8a4592a7",
   "metadata": {},
   "source": [
    "### 4. What is a push?"
   ]
  },
  {
   "cell_type": "markdown",
   "id": "c4d3fb3d",
   "metadata": {},
   "source": [
    "A push refers to the addition of an element into an already present stack."
   ]
  },
  {
   "cell_type": "markdown",
   "id": "97da98cd",
   "metadata": {},
   "source": [
    "### 5. What is a pull?"
   ]
  },
  {
   "cell_type": "markdown",
   "id": "41091530",
   "metadata": {},
   "source": [
    "A pull is a command which updates the local repository when certain changes are made to ensure sync."
   ]
  },
  {
   "cell_type": "markdown",
   "id": "d58de96b",
   "metadata": {},
   "source": [
    "### 6. What is the difference between **Github** and **Github Desktop**?"
   ]
  },
  {
   "cell_type": "markdown",
   "id": "d78873e6",
   "metadata": {},
   "source": [
    "Github is a web-based platform whereas Github Desktop is an application that is installed onto the computer."
   ]
  },
  {
   "cell_type": "markdown",
   "id": "2f898439",
   "metadata": {},
   "source": [
    "## **Exercise 3(A Matter of Statistics)** The mean ($\\mu$), standard deviation ($\\sigma$), and Pearson correlation coefficient (r) are important statistical parameters. Given variables $x_{i}$ and $y_{i}$ representing the i-th values n a dataset with  pairs, use Markdown notation to write the equations for these parameters."
   ]
  },
  {
   "cell_type": "markdown",
   "id": "93b786a9",
   "metadata": {},
   "source": [
    "$$\\mu = \\dfrac{1}{n}\\sum_{i=1}^{n} x_i$$"
   ]
  },
  {
   "cell_type": "markdown",
   "id": "b36a75ee",
   "metadata": {},
   "source": [
    "$$\\sigma = \\sqrt{\\dfrac{1}{n}\\sum_{i=1}^n (x_i-\\mu)^{2}}$$"
   ]
  },
  {
   "cell_type": "markdown",
   "id": "98d3e450",
   "metadata": {},
   "source": [
    "$$r = \\dfrac{\\sum_{i=1}^n (x_i-\\mu X)(y_i-\\mu Y)}{\\sqrt{\\sum_{i=1}^n (x_i-\\mu X)^{2}{\\sum_{i=1}^n (y_i-\\mu Y)^{2}}}}$$"
   ]
  }
 ],
 "metadata": {
  "kernelspec": {
   "display_name": "Python 3",
   "language": "python",
   "name": "python3"
  },
  "language_info": {
   "codemirror_mode": {
    "name": "ipython",
    "version": 3
   },
   "file_extension": ".py",
   "mimetype": "text/x-python",
   "name": "python",
   "nbconvert_exporter": "python",
   "pygments_lexer": "ipython3",
   "version": "3.10.6 (main, Nov 14 2022, 16:10:14) [GCC 11.3.0]"
  },
  "toc": {
   "base_numbering": 1,
   "nav_menu": {},
   "number_sections": true,
   "sideBar": true,
   "skip_h1_title": false,
   "title_cell": "Table of Contents",
   "title_sidebar": "Contents",
   "toc_cell": false,
   "toc_position": {},
   "toc_section_display": true,
   "toc_window_display": false
  },
  "vscode": {
   "interpreter": {
    "hash": "31f2aee4e71d21fbe5cf8b01ff0e069b9275f58929596ceb00d14d90e3e16cd6"
   }
  }
 },
 "nbformat": 4,
 "nbformat_minor": 5
}

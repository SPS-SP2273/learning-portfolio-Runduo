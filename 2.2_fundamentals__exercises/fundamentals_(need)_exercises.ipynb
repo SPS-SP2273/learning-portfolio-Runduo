{
 "cells": [
  {
   "attachments": {},
   "cell_type": "markdown",
   "id": "123456",
   "metadata": {},
   "source": [
    "<div style=\"text-align:left;font-size:2em\"><span style=\"font-weight:bolder;font-size:1.25em\">SP2273 | Learning Portfolio</span><br><br><span style=\"font-weight:bold;color:darkred\">Fundamentals (Need) Exercises</span></div>"
   ]
  },
  {
   "cell_type": "markdown",
   "id": "c8f59c45",
   "metadata": {},
   "source": [
    "## Exercise 1"
   ]
  },
  {
   "cell_type": "markdown",
   "id": "a7e62f08",
   "metadata": {},
   "source": [
    "Python features: Push, Pull, Commit, #(make notes),if, for, brackets,import (packages)"
   ]
  },
  {
   "cell_type": "markdown",
   "id": "3dc20086",
   "metadata": {},
   "source": [
    "## Exercise 2"
   ]
  },
  {
   "cell_type": "code",
   "execution_count": 7,
   "id": "352bc471",
   "metadata": {},
   "outputs": [
    {
     "name": "stdout",
     "output_type": "stream",
     "text": [
      "3 4 5.0\n"
     ]
    }
   ],
   "source": [
    "x,y=[3,4]\n",
    "import numpy as np\n",
    "z = np.sqrt(x**2 + y**2)\n",
    "print(x,y,z)"
   ]
  },
  {
   "cell_type": "markdown",
   "id": "e021904b",
   "metadata": {},
   "source": [
    "## Exercise 3"
   ]
  },
  {
   "cell_type": "markdown",
   "id": "6670072d",
   "metadata": {},
   "source": [
    "1. Function: A special type of code that results in the element within the function to be processed in a unique way."
   ]
  },
  {
   "cell_type": "markdown",
   "id": "8cfb9af3",
   "metadata": {},
   "source": [
    "2. Argument: The parameters/elements that is entered into a function\n"
   ]
  },
  {
   "cell_type": "markdown",
   "id": "67a91e87",
   "metadata": {},
   "source": [
    "3. Comments: Side notes that helps to signpost to the reader about the code, represented in green from '#' to the end of the code."
   ]
  },
  {
   "cell_type": "markdown",
   "id": "5f75c875",
   "metadata": {},
   "source": [
    "4. Indentations: Spaces "
   ]
  },
  {
   "cell_type": "markdown",
   "id": "938e168c",
   "metadata": {},
   "source": [
    "5. Packages: External tools that can be used to complete/create a code and behaves like a function. (eg numpy which is a package related to mathematical functions)"
   ]
  },
  {
   "cell_type": "markdown",
   "id": "881109f5",
   "metadata": {},
   "source": [
    "6. Dot(.): The dot is used to symbolise ownership of a particular package."
   ]
  },
  {
   "cell_type": "markdown",
   "id": "405f596a",
   "metadata": {},
   "source": [
    "7. Colon(:): The colon is used to symbolise that the line has ended and the following line of code is a result of the preceeding code."
   ]
  },
  {
   "cell_type": "markdown",
   "id": "efe499a6",
   "metadata": {},
   "source": [
    "8. Square brackets([]): Used primarily to 'contain' and elements within a list or array."
   ]
  },
  {
   "cell_type": "markdown",
   "id": "94470754",
   "metadata": {},
   "source": [
    "9. [[],[]]: Used to represent two distinct elements within the same list or array."
   ]
  },
  {
   "cell_type": "markdown",
   "id": "0944fde6",
   "metadata": {},
   "source": [
    "10. {}: Used to represent the start and end of a dictionary. "
   ]
  },
  {
   "cell_type": "markdown",
   "id": "93316b47",
   "metadata": {},
   "source": [
    "## Exercise 4"
   ]
  },
  {
   "cell_type": "code",
   "execution_count": 9,
   "id": "bdf55400",
   "metadata": {},
   "outputs": [
    {
     "data": {
      "text/plain": [
       "2.5"
      ]
     },
     "execution_count": 9,
     "metadata": {},
     "output_type": "execute_result"
    }
   ],
   "source": [
    "5/2           # computes the quantity '5 divided by 2' in decimal(float) form"
   ]
  },
  {
   "cell_type": "code",
   "execution_count": 11,
   "id": "7d1fc05f",
   "metadata": {},
   "outputs": [
    {
     "data": {
      "text/plain": [
       "2"
      ]
     },
     "execution_count": 11,
     "metadata": {},
     "output_type": "execute_result"
    }
   ],
   "source": [
    "5//2          # Computes the quotient of the quantity '5 divided by 2' in integer form "
   ]
  },
  {
   "cell_type": "code",
   "execution_count": 13,
   "id": "7e6325e9",
   "metadata": {},
   "outputs": [
    {
     "data": {
      "text/plain": [
       "1"
      ]
     },
     "execution_count": 13,
     "metadata": {},
     "output_type": "execute_result"
    }
   ],
   "source": [
    "5%2           # Computes the remainder of the quantity '5 divided by 2'"
   ]
  }
 ],
 "metadata": {
  "kernelspec": {
   "display_name": "base",
   "language": "python",
   "name": "python3"
  },
  "language_info": {
   "codemirror_mode": {
    "name": "ipython",
    "version": 3
   },
   "file_extension": ".py",
   "mimetype": "text/x-python",
   "name": "python",
   "nbconvert_exporter": "python",
   "pygments_lexer": "ipython3",
   "version": "3.13.5"
  },
  "toc": {
   "base_numbering": 1,
   "nav_menu": {},
   "number_sections": true,
   "sideBar": true,
   "skip_h1_title": false,
   "title_cell": "Table of Contents",
   "title_sidebar": "Contents",
   "toc_cell": false,
   "toc_position": {},
   "toc_section_display": true,
   "toc_window_display": false
  }
 },
 "nbformat": 4,
 "nbformat_minor": 5
}

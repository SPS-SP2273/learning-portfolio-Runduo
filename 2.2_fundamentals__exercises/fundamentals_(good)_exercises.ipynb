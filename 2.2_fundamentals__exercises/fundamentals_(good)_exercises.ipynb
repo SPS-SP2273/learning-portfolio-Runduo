{
 "cells": [
  {
   "attachments": {},
   "cell_type": "markdown",
   "id": "123456",
   "metadata": {},
   "source": [
    "<div style=\"text-align:left;font-size:2em\"><span style=\"font-weight:bolder;font-size:1.25em\">SP2273 | Learning Portfolio</span><br><br><span style=\"font-weight:bold;color:darkred\">Fundamentals (Good) Exercises</span></div>"
   ]
  },
  {
   "cell_type": "markdown",
   "id": "0f0d35e7",
   "metadata": {},
   "source": [
    "## Exercise 1\n"
   ]
  },
  {
   "cell_type": "markdown",
   "id": "148d98c6",
   "metadata": {},
   "source": [
    "### Example 1 tasks"
   ]
  },
  {
   "cell_type": "code",
   "execution_count": 1,
   "id": "f6dbca7a",
   "metadata": {},
   "outputs": [
    {
     "name": "stdout",
     "output_type": "stream",
     "text": [
      "You entered 67\n"
     ]
    }
   ],
   "source": [
    "user_input = input('Please provide me with a number?')\n",
    "print('You entered', user_input)"
   ]
  },
  {
   "cell_type": "code",
   "execution_count": 1,
   "id": "034596e2",
   "metadata": {},
   "outputs": [
    {
     "name": "stdout",
     "output_type": "stream",
     "text": [
      "How you doin Jack !\n"
     ]
    }
   ],
   "source": [
    "user_input = input('NAME?')\n",
    "print('How you doin', user_input , '!')"
   ]
  },
  {
   "cell_type": "code",
   "execution_count": 2,
   "id": "3398d248",
   "metadata": {},
   "outputs": [
    {
     "name": "stdout",
     "output_type": "stream",
     "text": [
      "My name is Jack floyd and I am 67 years old!\n"
     ]
    }
   ],
   "source": [
    "user_input = input('name')\n",
    "user_input_2 = input('age')\n",
    "print('My name is', user_input, 'and I am', user_input_2  , 'years old!')"
   ]
  },
  {
   "cell_type": "code",
   "execution_count": null,
   "id": "fe5bf68c",
   "metadata": {},
   "outputs": [
    {
     "name": "stdout",
     "output_type": "stream",
     "text": [
      "The value of pi to 2 decimal places is 3.14\n",
      "The value of pi to 3 decimal placses is 3.142\n",
      "The value of pi to 4 decimal places is 3.1416\n"
     ]
    }
   ],
   "source": [
    "user_input =input('2dp') # sir dont mark this\n",
    "user_input_2 = input('3dp') \n",
    "user_input_3 = input('4dp') # cannot do loops since different functions \n",
    "print(f'The value of pi to 2 decimal places is {float(user_input):.2f}')\n",
    "print(f'The value of pi to 3 decimal placses is {float(user_input_2):.3f}')\n",
    "print(f'The value of pi to 4 decimal places is {float(user_input_3):.4f}')"
   ]
  },
  {
   "cell_type": "code",
   "execution_count": 30,
   "id": "422d799b",
   "metadata": {},
   "outputs": [
    {
     "name": "stdout",
     "output_type": "stream",
     "text": [
      "The value of pi to 2 decimal places is 3.14\n",
      "The value of pi to 3 decimal places is 3.142\n",
      "The value of pi to 4 decimal places is 3.1416\n"
     ]
    }
   ],
   "source": [
    "pi = float(3.141592653589793)\n",
    "print(f'The value of pi to 2 decimal places is {pi:.2f}')\n",
    "print(f'The value of pi to 3 decimal places is {pi:.3f}')\n",
    "print(f'The value of pi to 4 decimal places is {pi:.4f}')"
   ]
  },
  {
   "cell_type": "code",
   "execution_count": null,
   "id": "3a515754",
   "metadata": {},
   "outputs": [
    {
     "name": "stdout",
     "output_type": "stream",
     "text": [
      "Apple $ 0.99\n",
      "Banana $ 0.59\n",
      "orange $ 1.29\n"
     ]
    }
   ],
   "source": [
    "user_input = input('cost_apple')\n",
    "user_input_2 = input('cost_banana')\n",
    "user_input_3 = input('cost_orange')\n",
    "print('Apple' ,'$',user_input)\n",
    "print('Banana', '$', user_input_2)\n",
    "print('orange', '$', user_input_3)"
   ]
  },
  {
   "cell_type": "markdown",
   "id": "e62d7c89",
   "metadata": {},
   "source": [
    "## Exercise 2"
   ]
  },
  {
   "cell_type": "code",
   "execution_count": 13,
   "id": "4c7e886d",
   "metadata": {},
   "outputs": [
    {
     "name": "stdout",
     "output_type": "stream",
     "text": [
      "The student's letter grade is: Fail\n"
     ]
    }
   ],
   "source": [
    "score_input = int(input('score'))\n",
    "if 70<=score_input<=100:\n",
    "    print(\"The student's letter grade is: 'A'\")\n",
    "elif 50<=score_input<=69:\n",
    "    print(\"The student's letter grade is: B\")\n",
    "elif 35<=score_input<=49:\n",
    "    print(\"The student's letter grade is: C\")\n",
    "elif 0<=score_input<=34:\n",
    "    print(\"The student's letter grade is: Fail\")\n",
    "else:\n",
    "    print(\"The student's score is not within the range of grades\")   "
   ]
  },
  {
   "cell_type": "markdown",
   "id": "215053b3",
   "metadata": {},
   "source": [
    "## Exercise 3"
   ]
  },
  {
   "cell_type": "code",
   "execution_count": 17,
   "id": "fb98a176",
   "metadata": {},
   "outputs": [
    {
     "name": "stdout",
     "output_type": "stream",
     "text": [
      "120\n",
      "Invalid output\n"
     ]
    }
   ],
   "source": [
    "def factorial(n):\n",
    "    if n > 0:\n",
    "        return n*factorial(n-1)\n",
    "    elif n == 0:\n",
    "        return 1\n",
    "    else:\n",
    "        return 'Invalid output'\n",
    "            \n",
    "\n",
    "\n",
    "print(factorial(5))   # Testing, expected output: 120\n",
    "print(factorial(-1))  # Testing, expected output: Invalid input"
   ]
  }
 ],
 "metadata": {
  "kernelspec": {
   "display_name": "base",
   "language": "python",
   "name": "python3"
  },
  "language_info": {
   "codemirror_mode": {
    "name": "ipython",
    "version": 3
   },
   "file_extension": ".py",
   "mimetype": "text/x-python",
   "name": "python",
   "nbconvert_exporter": "python",
   "pygments_lexer": "ipython3",
   "version": "3.13.5"
  },
  "toc": {
   "base_numbering": 1,
   "nav_menu": {},
   "number_sections": true,
   "sideBar": true,
   "skip_h1_title": false,
   "title_cell": "Table of Contents",
   "title_sidebar": "Contents",
   "toc_cell": false,
   "toc_position": {},
   "toc_section_display": true,
   "toc_window_display": false
  }
 },
 "nbformat": 4,
 "nbformat_minor": 5
}

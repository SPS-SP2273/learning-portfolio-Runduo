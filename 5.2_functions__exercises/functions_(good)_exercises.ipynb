{
 "cells": [
  {
   "attachments": {},
   "cell_type": "markdown",
   "id": "123456",
   "metadata": {},
   "source": [
    "<div style=\"text-align:left;font-size:2em\"><span style=\"font-weight:bolder;font-size:1.25em\">SP2273 | Learning Portfolio</span><br><br><span style=\"font-weight:bold;color:darkred\">Functions (Good) Exercises</span></div>"
   ]
  },
  {
   "cell_type": "markdown",
   "id": "6bc90fa5",
   "metadata": {},
   "source": [
    "## Exercise 1"
   ]
  },
  {
   "cell_type": "code",
   "execution_count": 6,
   "id": "9a5c7822",
   "metadata": {},
   "outputs": [],
   "source": [
    "def convert_celsius(temperature_celsius, target_scale = 'Farenheit'):\n",
    "    if target_scale == 'K':\n",
    "        return (temperature_celsius + 273.15)\n",
    "    else:\n",
    "        return (temperature_celsius * 9/5) + 32\n"
   ]
  },
  {
   "cell_type": "code",
   "execution_count": 59,
   "id": "0143283e",
   "metadata": {},
   "outputs": [
    {
     "data": {
      "text/plain": [
       "298.15"
      ]
     },
     "execution_count": 59,
     "metadata": {},
     "output_type": "execute_result"
    }
   ],
   "source": [
    "convert_celsius(25, 'K')"
   ]
  },
  {
   "cell_type": "code",
   "execution_count": 60,
   "id": "36f379e9",
   "metadata": {},
   "outputs": [
    {
     "data": {
      "text/plain": [
       "77.0"
      ]
     },
     "execution_count": 60,
     "metadata": {},
     "output_type": "execute_result"
    }
   ],
   "source": [
    "convert_celsius(25,'F')"
   ]
  },
  {
   "cell_type": "markdown",
   "id": "7ff1fe33",
   "metadata": {},
   "source": [
    "## Exercise 2"
   ]
  },
  {
   "cell_type": "code",
   "execution_count": 5,
   "id": "9bd519c1",
   "metadata": {},
   "outputs": [],
   "source": [
    "def convert_farenheit(temperature_farenheit, target_scale='Celsius'):\n",
    "    if target_scale == 'K':\n",
    "        return (temperature_farenheit - 32)* 5/9 + 273.15\n",
    "    else:\n",
    "        return (temperature_farenheit - 32)* 5/9\n",
    "\n",
    "\n"
   ]
  },
  {
   "cell_type": "code",
   "execution_count": 63,
   "id": "8ba7f9ba",
   "metadata": {},
   "outputs": [
    {
     "data": {
      "text/plain": [
       "292.59444444444443"
      ]
     },
     "execution_count": 63,
     "metadata": {},
     "output_type": "execute_result"
    }
   ],
   "source": [
    "convert_farenheit (67, 'K')"
   ]
  },
  {
   "cell_type": "markdown",
   "id": "07b09f5f",
   "metadata": {},
   "source": [
    "## Exercise 3"
   ]
  },
  {
   "cell_type": "code",
   "execution_count": 2,
   "id": "c38c0c23",
   "metadata": {},
   "outputs": [],
   "source": [
    "def convert_temperature(temperature, source_scale, target_scale):\n",
    "    if source_scale == 'C':\n",
    "        if target_scale == 'F':\n",
    "         return (convert_celsius(temperature, 'F')) \n",
    "        elif target_scale == 'K':\n",
    "         return (convert_celsius(temperature, 'K'))\n",
    "        \n",
    "    elif source_scale == 'F':\n",
    "         if target_scale == 'C':\n",
    "            return (convert_farenheit(temperature, 'C'))\n",
    "         elif target_scale == 'K':\n",
    "            return (convert_farenheit(temperature, 'K'))\n",
    "           \n",
    "    else: \n",
    "     if target_scale == 'C':\n",
    "                 return (temperature - 273.15)\n",
    "     elif target_scale == 'F':\n",
    "                 return (temperature - 273.15)*9/5 + 32\n",
    "           \n",
    "           \n",
    "             \n"
   ]
  },
  {
   "cell_type": "code",
   "execution_count": 7,
   "id": "4b93b9fb",
   "metadata": {},
   "outputs": [
    {
     "data": {
      "text/plain": [
       "298.15"
      ]
     },
     "execution_count": 7,
     "metadata": {},
     "output_type": "execute_result"
    }
   ],
   "source": [
    "convert_temperature(25, 'C', 'K')"
   ]
  }
 ],
 "metadata": {
  "kernelspec": {
   "display_name": "base",
   "language": "python",
   "name": "python3"
  },
  "language_info": {
   "codemirror_mode": {
    "name": "ipython",
    "version": 3
   },
   "file_extension": ".py",
   "mimetype": "text/x-python",
   "name": "python",
   "nbconvert_exporter": "python",
   "pygments_lexer": "ipython3",
   "version": "3.13.5"
  },
  "toc": {
   "base_numbering": 1,
   "nav_menu": {},
   "number_sections": true,
   "sideBar": true,
   "skip_h1_title": false,
   "title_cell": "Table of Contents",
   "title_sidebar": "Contents",
   "toc_cell": false,
   "toc_position": {},
   "toc_section_display": true,
   "toc_window_display": false
  }
 },
 "nbformat": 4,
 "nbformat_minor": 5
}

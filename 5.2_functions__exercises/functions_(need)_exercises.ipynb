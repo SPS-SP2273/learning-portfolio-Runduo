{
 "cells": [
  {
   "attachments": {},
   "cell_type": "markdown",
   "id": "123456",
   "metadata": {},
   "source": [
    "<div style=\"text-align:left;font-size:2em\"><span style=\"font-weight:bolder;font-size:1.25em\">SP2273 | Learning Portfolio</span><br><br><span style=\"font-weight:bold;color:darkred\">Functions (Need) Exercises</span></div>"
   ]
  },
  {
   "cell_type": "markdown",
   "id": "0f028721",
   "metadata": {},
   "source": [
    "## Exercise 1"
   ]
  },
  {
   "cell_type": "code",
   "execution_count": 1,
   "id": "a858fe80",
   "metadata": {},
   "outputs": [],
   "source": [
    "def greeting(name):\n",
    "    if name == 'Batman':\n",
    "        return 'Hello Batman! So, nice to meet you!'\n",
    "    return f'Hello {name}!'"
   ]
  },
  {
   "cell_type": "code",
   "execution_count": 2,
   "id": "54e5fd54",
   "metadata": {},
   "outputs": [
    {
     "data": {
      "text/plain": [
       "'Hello Batman! So, nice to meet you!'"
      ]
     },
     "execution_count": 2,
     "metadata": {},
     "output_type": "execute_result"
    }
   ],
   "source": [
    "greeting('Batman')"
   ]
  },
  {
   "cell_type": "code",
   "execution_count": 3,
   "id": "6c3427db",
   "metadata": {},
   "outputs": [
    {
     "data": {
      "text/plain": [
       "'Hello Madoolf!'"
      ]
     },
     "execution_count": 3,
     "metadata": {},
     "output_type": "execute_result"
    }
   ],
   "source": [
    "greeting('Madoolf')"
   ]
  },
  {
   "cell_type": "markdown",
   "id": "d2500205",
   "metadata": {},
   "source": [
    "The function works when name != 'Batman' as the second return function is not indented under the if name == 'Batman' condition, and thus acts as a seperate condition for any input that is not 'Batman' to output 'Hello (input)'"
   ]
  },
  {
   "cell_type": "markdown",
   "id": "cf47970d",
   "metadata": {},
   "source": [
    "## Exercise 2"
   ]
  },
  {
   "cell_type": "code",
   "execution_count": 8,
   "id": "ae5f4aca",
   "metadata": {},
   "outputs": [],
   "source": [
    "def calculate_bmi (weight, height):\n",
    "    bmi = weight/(height**2) \n",
    "    if bmi < 18.5:\n",
    "        return 'Underweight'\n",
    "    if bmi >=18.5 and bmi < 25:\n",
    "        return 'Normal weight'\n",
    "    if bmi >=25 and bmi < 30:\n",
    "        return 'Overweight'\n",
    "    if bmi >=30: \n",
    "        return 'Obesity'"
   ]
  },
  {
   "cell_type": "code",
   "execution_count": 11,
   "id": "8be5df39",
   "metadata": {},
   "outputs": [
    {
     "data": {
      "text/plain": [
       "'Normal weight'"
      ]
     },
     "execution_count": 11,
     "metadata": {},
     "output_type": "execute_result"
    }
   ],
   "source": [
    "calculate_bmi (68,1.78) #im not fat"
   ]
  },
  {
   "cell_type": "markdown",
   "id": "0b1e3fea",
   "metadata": {},
   "source": [
    "## Exercise 3"
   ]
  },
  {
   "cell_type": "code",
   "execution_count": null,
   "id": "0f77e18c",
   "metadata": {},
   "outputs": [],
   "source": [
    "def fact(n):\n",
    " if n== 0 or n==1:\n",
    "    return 1\n",
    " elif n>0:\n",
    "    return n*fact(n-1)\n",
    " else:\n",
    "   return 'Negative numbers do not have factorials :('\n",
    " \n",
    "   \n",
    "\n"
   ]
  },
  {
   "cell_type": "code",
   "execution_count": 14,
   "id": "65ee4c2d",
   "metadata": {},
   "outputs": [
    {
     "data": {
      "text/plain": [
       "120"
      ]
     },
     "execution_count": 14,
     "metadata": {},
     "output_type": "execute_result"
    }
   ],
   "source": [
    "fact(5)"
   ]
  },
  {
   "cell_type": "code",
   "execution_count": 15,
   "id": "81fbfb0d",
   "metadata": {},
   "outputs": [
    {
     "data": {
      "text/plain": [
       "1"
      ]
     },
     "execution_count": 15,
     "metadata": {},
     "output_type": "execute_result"
    }
   ],
   "source": [
    "fact(0)"
   ]
  },
  {
   "cell_type": "code",
   "execution_count": 16,
   "id": "74c70fbc",
   "metadata": {},
   "outputs": [
    {
     "data": {
      "text/plain": [
       "'Negative numbers do not have factorials :('"
      ]
     },
     "execution_count": 16,
     "metadata": {},
     "output_type": "execute_result"
    }
   ],
   "source": [
    "fact(-1)"
   ]
  }
 ],
 "metadata": {
  "kernelspec": {
   "display_name": "base",
   "language": "python",
   "name": "python3"
  },
  "language_info": {
   "codemirror_mode": {
    "name": "ipython",
    "version": 3
   },
   "file_extension": ".py",
   "mimetype": "text/x-python",
   "name": "python",
   "nbconvert_exporter": "python",
   "pygments_lexer": "ipython3",
   "version": "3.13.5"
  },
  "toc": {
   "base_numbering": 1,
   "nav_menu": {},
   "number_sections": true,
   "sideBar": true,
   "skip_h1_title": false,
   "title_cell": "Table of Contents",
   "title_sidebar": "Contents",
   "toc_cell": false,
   "toc_position": {},
   "toc_section_display": true,
   "toc_window_display": false
  }
 },
 "nbformat": 4,
 "nbformat_minor": 5
}
